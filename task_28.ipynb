{
  "cells": [
    {
      "cell_type": "code",
      "execution_count": 3,
      "metadata": {},
      "outputs": [],
      "source": [
        "import pandas as pd\n",
        "import numpy as np"
      ]
    },
    {
      "cell_type": "markdown",
      "metadata": {
        "id": "1-EbgBO3hInD"
      },
      "source": [
        "**Problem:**\n",
        "\n",
        "You are given the following dataset:\n",
        "1. **Audible Data** : https://1drv.ms/u/s!AiqdXCxPTydhoog8ckLN-6Cw55fzIg?e=EWgZ5d\n",
        "\n",
        "Your task is to:\n",
        "- Find the problems with the datasets.\n",
        "- Define the Data Quality Dimensions.\n",
        "- Try to clean the datasets."
      ]
    },
    {
      "cell_type": "code",
      "execution_count": 1,
      "metadata": {
        "id": "nxoqZxJMhI_y"
      },
      "outputs": [
        {
          "name": "stdout",
          "output_type": "stream",
          "text": [
            "Hello\n"
          ]
        }
      ],
      "source": [
        "print(\"Hello\")"
      ]
    },
    {
      "cell_type": "code",
      "execution_count": 4,
      "metadata": {},
      "outputs": [],
      "source": [
        "df = pd.read_excel('DataSets/audible_uncleaned (1).xlsx')"
      ]
    },
    {
      "cell_type": "code",
      "execution_count": 5,
      "metadata": {},
      "outputs": [
        {
          "data": {
            "text/html": [
              "<div>\n",
              "<style scoped>\n",
              "    .dataframe tbody tr th:only-of-type {\n",
              "        vertical-align: middle;\n",
              "    }\n",
              "\n",
              "    .dataframe tbody tr th {\n",
              "        vertical-align: top;\n",
              "    }\n",
              "\n",
              "    .dataframe thead th {\n",
              "        text-align: right;\n",
              "    }\n",
              "</style>\n",
              "<table border=\"1\" class=\"dataframe\">\n",
              "  <thead>\n",
              "    <tr style=\"text-align: right;\">\n",
              "      <th></th>\n",
              "      <th>name</th>\n",
              "      <th>author</th>\n",
              "      <th>narrator</th>\n",
              "      <th>time</th>\n",
              "      <th>releasedate</th>\n",
              "      <th>language</th>\n",
              "      <th>stars</th>\n",
              "      <th>price</th>\n",
              "    </tr>\n",
              "  </thead>\n",
              "  <tbody>\n",
              "    <tr>\n",
              "      <th>0</th>\n",
              "      <td>Geronimo Stilton #11 &amp; #12</td>\n",
              "      <td>Writtenby:GeronimoStilton</td>\n",
              "      <td>Narratedby:BillLobely</td>\n",
              "      <td>2 hrs and 20 mins</td>\n",
              "      <td>2008-04-08 00:00:00</td>\n",
              "      <td>English</td>\n",
              "      <td>5 out of 5 stars34 ratings</td>\n",
              "      <td>468</td>\n",
              "    </tr>\n",
              "    <tr>\n",
              "      <th>1</th>\n",
              "      <td>The Burning Maze</td>\n",
              "      <td>Writtenby:RickRiordan</td>\n",
              "      <td>Narratedby:RobbieDaymond</td>\n",
              "      <td>13 hrs and 8 mins</td>\n",
              "      <td>2018-01-05 00:00:00</td>\n",
              "      <td>English</td>\n",
              "      <td>4.5 out of 5 stars41 ratings</td>\n",
              "      <td>820</td>\n",
              "    </tr>\n",
              "    <tr>\n",
              "      <th>2</th>\n",
              "      <td>The Deep End</td>\n",
              "      <td>Writtenby:JeffKinney</td>\n",
              "      <td>Narratedby:DanRussell</td>\n",
              "      <td>2 hrs and 3 mins</td>\n",
              "      <td>2020-06-11 00:00:00</td>\n",
              "      <td>English</td>\n",
              "      <td>4.5 out of 5 stars38 ratings</td>\n",
              "      <td>410</td>\n",
              "    </tr>\n",
              "    <tr>\n",
              "      <th>3</th>\n",
              "      <td>Daughter of the Deep</td>\n",
              "      <td>Writtenby:RickRiordan</td>\n",
              "      <td>Narratedby:SoneelaNankani</td>\n",
              "      <td>11 hrs and 16 mins</td>\n",
              "      <td>2021-05-10 00:00:00</td>\n",
              "      <td>English</td>\n",
              "      <td>4.5 out of 5 stars12 ratings</td>\n",
              "      <td>615</td>\n",
              "    </tr>\n",
              "    <tr>\n",
              "      <th>4</th>\n",
              "      <td>The Lightning Thief: Percy Jackson, Book 1</td>\n",
              "      <td>Writtenby:RickRiordan</td>\n",
              "      <td>Narratedby:JesseBernstein</td>\n",
              "      <td>10 hrs</td>\n",
              "      <td>2010-01-13 00:00:00</td>\n",
              "      <td>English</td>\n",
              "      <td>4.5 out of 5 stars181 ratings</td>\n",
              "      <td>820</td>\n",
              "    </tr>\n",
              "  </tbody>\n",
              "</table>\n",
              "</div>"
            ],
            "text/plain": [
              "                                         name                     author  \\\n",
              "0                  Geronimo Stilton #11 & #12  Writtenby:GeronimoStilton   \n",
              "1                            The Burning Maze      Writtenby:RickRiordan   \n",
              "2                                The Deep End       Writtenby:JeffKinney   \n",
              "3                        Daughter of the Deep      Writtenby:RickRiordan   \n",
              "4  The Lightning Thief: Percy Jackson, Book 1      Writtenby:RickRiordan   \n",
              "\n",
              "                    narrator                time          releasedate  \\\n",
              "0      Narratedby:BillLobely   2 hrs and 20 mins  2008-04-08 00:00:00   \n",
              "1   Narratedby:RobbieDaymond   13 hrs and 8 mins  2018-01-05 00:00:00   \n",
              "2      Narratedby:DanRussell    2 hrs and 3 mins  2020-06-11 00:00:00   \n",
              "3  Narratedby:SoneelaNankani  11 hrs and 16 mins  2021-05-10 00:00:00   \n",
              "4  Narratedby:JesseBernstein              10 hrs  2010-01-13 00:00:00   \n",
              "\n",
              "  language                          stars price  \n",
              "0  English     5 out of 5 stars34 ratings   468  \n",
              "1  English   4.5 out of 5 stars41 ratings   820  \n",
              "2  English   4.5 out of 5 stars38 ratings   410  \n",
              "3  English   4.5 out of 5 stars12 ratings   615  \n",
              "4  English  4.5 out of 5 stars181 ratings   820  "
            ]
          },
          "execution_count": 5,
          "metadata": {},
          "output_type": "execute_result"
        }
      ],
      "source": [
        "df.head()"
      ]
    },
    {
      "cell_type": "code",
      "execution_count": 6,
      "metadata": {},
      "outputs": [
        {
          "data": {
            "text/plain": [
              "(87489, 8)"
            ]
          },
          "execution_count": 6,
          "metadata": {},
          "output_type": "execute_result"
        }
      ],
      "source": [
        "df.shape"
      ]
    },
    {
      "cell_type": "code",
      "execution_count": 7,
      "metadata": {},
      "outputs": [
        {
          "name": "stdout",
          "output_type": "stream",
          "text": [
            "<class 'pandas.core.frame.DataFrame'>\n",
            "RangeIndex: 87489 entries, 0 to 87488\n",
            "Data columns (total 8 columns):\n",
            " #   Column       Non-Null Count  Dtype \n",
            "---  ------       --------------  ----- \n",
            " 0   name         87489 non-null  object\n",
            " 1   author       87489 non-null  object\n",
            " 2   narrator     87489 non-null  object\n",
            " 3   time         87489 non-null  object\n",
            " 4   releasedate  87489 non-null  object\n",
            " 5   language     87489 non-null  object\n",
            " 6   stars        87489 non-null  object\n",
            " 7   price        87489 non-null  object\n",
            "dtypes: object(8)\n",
            "memory usage: 5.3+ MB\n"
          ]
        }
      ],
      "source": [
        "df.info()"
      ]
    },
    {
      "cell_type": "code",
      "execution_count": null,
      "metadata": {},
      "outputs": [],
      "source": []
    }
  ],
  "metadata": {
    "colab": {
      "provenance": []
    },
    "kernelspec": {
      "display_name": "Python 3.8.10 64-bit",
      "language": "python",
      "name": "python3"
    },
    "language_info": {
      "codemirror_mode": {
        "name": "ipython",
        "version": 3
      },
      "file_extension": ".py",
      "mimetype": "text/x-python",
      "name": "python",
      "nbconvert_exporter": "python",
      "pygments_lexer": "ipython3",
      "version": "3.8.10"
    },
    "vscode": {
      "interpreter": {
        "hash": "e7370f93d1d0cde622a1f8e1c04877d8463912d04d973331ad4851f04de6915a"
      }
    }
  },
  "nbformat": 4,
  "nbformat_minor": 0
}
